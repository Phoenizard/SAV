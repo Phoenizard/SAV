{
 "cells": [
  {
   "cell_type": "code",
   "execution_count": 1,
   "metadata": {},
   "outputs": [],
   "source": [
    "from model.model_torch import Model\n",
    "import torch\n",
    "from torch.utils.data import DataLoader, TensorDataset\n",
    "import numpy as np"
   ]
  },
  {
   "cell_type": "code",
   "execution_count": 2,
   "metadata": {},
   "outputs": [
    {
     "name": "stdout",
     "output_type": "stream",
     "text": [
      "Model(\n",
      "  (linear1): Linear(in_features=2, out_features=10, bias=False)\n",
      "  (tanh): Tanh()\n",
      "  (linear2): Linear(in_features=10, out_features=1, bias=False)\n",
      "  (divide): DivideByConstantLayer()\n",
      ")\n",
      "linear1.weight Parameter containing:\n",
      "tensor([[ 2.1380,  0.8929],\n",
      "        [-1.7919,  0.3056],\n",
      "        [-1.8884, -0.0131],\n",
      "        [-1.1758,  3.2247],\n",
      "        [ 1.0577, -1.3107],\n",
      "        [ 0.2127,  0.7782],\n",
      "        [-0.6442, -0.6455],\n",
      "        [-0.5260, -0.1293],\n",
      "        [ 1.0540,  1.2840],\n",
      "        [-0.1586,  1.6983]], requires_grad=True)\n",
      "linear2.weight Parameter containing:\n",
      "tensor([[ 0.3381, -0.9064, -0.2373, -0.2710, -0.5559, -0.2232,  0.5375,  0.1231,\n",
      "          0.0934,  0.3698]], requires_grad=True)\n"
     ]
    }
   ],
   "source": [
    "model = Model(10, 1)\n",
    "# 打印模型结构\n",
    "print(model)\n",
    "# 打印模型参数数值\n",
    "for name, param in model.named_parameters():\n",
    "    print(name, param)"
   ]
  },
  {
   "cell_type": "code",
   "execution_count": 3,
   "metadata": {},
   "outputs": [
    {
     "name": "stdout",
     "output_type": "stream",
     "text": [
      "tensor([ 2.1380,  0.8929, -1.7919,  0.3056, -1.8884, -0.0131, -1.1758,  3.2247,\n",
      "         1.0577, -1.3107,  0.2127,  0.7782, -0.6442, -0.6455, -0.5260, -0.1293,\n",
      "         1.0540,  1.2840, -0.1586,  1.6983,  0.3381, -0.9064, -0.2373, -0.2710,\n",
      "        -0.5559, -0.2232,  0.5375,  0.1231,  0.0934,  0.3698],\n",
      "       grad_fn=<CatBackward0>)\n"
     ]
    }
   ],
   "source": [
    "theta = torch.cat([p.view(-1) for p in model.parameters()])\n",
    "print(theta)"
   ]
  },
  {
   "cell_type": "code",
   "execution_count": 4,
   "metadata": {},
   "outputs": [
    {
     "name": "stdout",
     "output_type": "stream",
     "text": [
      "tensor([ 1.1380, -0.1071, -2.7919, -0.6944, -2.8884, -1.0131, -2.1758,  2.2247,\n",
      "         0.0577, -2.3107, -0.7873, -0.2218, -1.6442, -1.6455, -1.5260, -1.1293,\n",
      "         0.0540,  0.2840, -1.1586,  0.6983, -0.6619, -1.9064, -1.2373, -1.2710,\n",
      "        -1.5559, -1.2232, -0.4625, -0.8769, -0.9066, -0.6302],\n",
      "       grad_fn=<SubBackward0>)\n"
     ]
    }
   ],
   "source": [
    "# theta - 1\n",
    "theta = theta - 1\n",
    "print(theta)"
   ]
  },
  {
   "cell_type": "code",
   "execution_count": 5,
   "metadata": {},
   "outputs": [
    {
     "name": "stdout",
     "output_type": "stream",
     "text": [
      "linear1.weight Parameter containing:\n",
      "tensor([[ 1.1380, -0.1071],\n",
      "        [-2.7919, -0.6944],\n",
      "        [-2.8884, -1.0131],\n",
      "        [-2.1758,  2.2247],\n",
      "        [ 0.0577, -2.3107],\n",
      "        [-0.7873, -0.2218],\n",
      "        [-1.6442, -1.6455],\n",
      "        [-1.5260, -1.1293],\n",
      "        [ 0.0540,  0.2840],\n",
      "        [-1.1586,  0.6983]], requires_grad=True)\n",
      "linear2.weight Parameter containing:\n",
      "tensor([[-0.6619, -1.9064, -1.2373, -1.2710, -1.5559, -1.2232, -0.4625, -0.8769,\n",
      "         -0.9066, -0.6302]], requires_grad=True)\n"
     ]
    }
   ],
   "source": [
    "for p, theta_i in zip(model.parameters(), theta.split([p.numel() for p in model.parameters()])):\n",
    "    p.data = theta_i.view(p.size())\n",
    "for name, param in model.named_parameters():\n",
    "    print(name, param)"
   ]
  }
 ],
 "metadata": {
  "kernelspec": {
   "display_name": "NumericalMethod",
   "language": "python",
   "name": "python3"
  },
  "language_info": {
   "codemirror_mode": {
    "name": "ipython",
    "version": 3
   },
   "file_extension": ".py",
   "mimetype": "text/x-python",
   "name": "python",
   "nbconvert_exporter": "python",
   "pygments_lexer": "ipython3",
   "version": "3.12.3"
  }
 },
 "nbformat": 4,
 "nbformat_minor": 2
}
